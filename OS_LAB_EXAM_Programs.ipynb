{
  "cells": [
    {
      "cell_type": "markdown",
      "metadata": {
        "id": "view-in-github",
        "colab_type": "text"
      },
      "source": [
        "<a href=\"https://colab.research.google.com/github/Srinidhi-070/My-first-webpage/blob/main/OS_LAB_EXAM_Programs.ipynb\" target=\"_parent\"><img src=\"https://colab.research.google.com/assets/colab-badge.svg\" alt=\"Open In Colab\"/></a>"
      ]
    },
    {
      "cell_type": "markdown",
      "source": [
        "# **1. PROGRAM FOR SYSTEM CALLS OF UNIX OPERATING SYSTEMS (OPENDIR, READDIR CLOSEDIR)**"
      ],
      "metadata": {
        "id": "jCV7w2SgsqKN"
      }
    },
    {
      "cell_type": "markdown",
      "source": [
        "    ALGORITHM:\n",
        "    STEP 1: Start the program.\n",
        "    STEP 2: Create struct dirent.\n",
        "    STEP 3: declare the variable buff and pointer dptr.\n",
        "    STEP 4: Get the directory name.\n",
        "    STEP 5: Open the directory.\n",
        "    STEP 6: Read the contents in directory and print it.\n",
        "    STEP 7: Close the directory.\n"
      ],
      "metadata": {
        "id": "wkfIfmWEwYmw"
      }
    },
    {
      "cell_type": "code",
      "source": [
        "%%writefile 1.c\n",
        "#include <stdio.h>\n",
        "#include <stdlib.h>\n",
        "#include <dirent.h>\n",
        "\n",
        "int main() {\n",
        "    char dirName[100];\n",
        "    struct dirent *entry;\n",
        "    DIR *dir;\n",
        "\n",
        "    printf(\"Enter directory name: \");\n",
        "    scanf(\"%s\", dirName);\n",
        "\n",
        "    if ((dir = opendir(dirName)) == NULL) {\n",
        "        printf(\"Directory does not exist.\\n\");\n",
        "        return 1;\n",
        "    }\n",
        "\n",
        "    while ((entry = readdir(dir)) != NULL) {\n",
        "        printf(\"%s\\n\", entry->d_name);\n",
        "    }\n",
        "\n",
        "    closedir(dir);\n",
        "    return 0;\n",
        "}"
      ],
      "metadata": {
        "colab": {
          "base_uri": "https://localhost:8080/"
        },
        "id": "5Ez5Sl97iGy7",
        "outputId": "380f7315-cc71-4f7a-9a04-bc8e16b07300"
      },
      "execution_count": null,
      "outputs": [
        {
          "output_type": "stream",
          "name": "stdout",
          "text": [
            "Writing 1.c\n"
          ]
        }
      ]
    },
    {
      "cell_type": "code",
      "source": [
        "!gcc 1.c"
      ],
      "metadata": {
        "id": "_3Ny1kIbiMTw"
      },
      "execution_count": null,
      "outputs": []
    },
    {
      "cell_type": "code",
      "source": [
        "!./a.out"
      ],
      "metadata": {
        "colab": {
          "base_uri": "https://localhost:8080/"
        },
        "id": "pLmmiu5liOK6",
        "outputId": "3291c911-3575-4d75-d5df-601b169bc2b6"
      },
      "execution_count": null,
      "outputs": [
        {
          "output_type": "stream",
          "name": "stdout",
          "text": [
            "Enter directory name: a\n",
            "Directory does not exist.\n"
          ]
        }
      ]
    },
    {
      "cell_type": "markdown",
      "source": [
        "# **2. PROGRAM FOR SYSTEM CALLS OF UNIX OPERATING SYSTEM (fork, getpid, exit)**\n"
      ],
      "metadata": {
        "id": "hjPD0pTjvNX9"
      }
    },
    {
      "cell_type": "code",
      "source": [],
      "metadata": {
        "id": "ois3IVZwvuPY"
      },
      "execution_count": null,
      "outputs": []
    },
    {
      "cell_type": "markdown",
      "source": [
        "    ALGORITHM:\n",
        "    STEP 1: Start the program.\n",
        "    STEP 2: Declare the variables pid,pid1,pid2.\n",
        "    STEP 3: Call fork() system call to create process.\n",
        "    STEP 4: If pid==-1, exit.\n",
        "    STEP 5: Ifpid!=-1 , get the process id using getpid().\n",
        "    STEP 6: Print the process id.\n",
        "    STEP 7: Stop the program"
      ],
      "metadata": {
        "id": "RGdFjHgcw5mt"
      }
    },
    {
      "cell_type": "code",
      "source": [
        "%%writefile 2.c\n",
        "#include <stdio.h>\n",
        "#include <unistd.h>\n",
        "#include <stdlib.h>\n",
        "\n",
        "int main() {\n",
        "    int pid = fork(); // Create a new process\n",
        "\n",
        "    if (pid == -1) {\n",
        "        // Error occurred during process creation\n",
        "        printf(\"Error in process creation\");\n",
        "        exit(EXIT_FAILURE); // Exit with failure status\n",
        "    }\n",
        "\n",
        "    if (pid != 0) {\n",
        "        // Parent process\n",
        "        printf(\"Parent process ID: %d\\n\", getpid());\n",
        "        exit(EXIT_SUCCESS); // Exit the parent process successfully\n",
        "    } else {\n",
        "        // Child process\n",
        "        printf(\"Child process ID: %d\\n\", getpid());\n",
        "        exit(EXIT_SUCCESS); // Exit the child process successfully\n",
        "    }\n",
        "\n",
        "    return 0; // This line is redundant as both processes terminate with exit\n",
        "}\n"
      ],
      "metadata": {
        "colab": {
          "base_uri": "https://localhost:8080/"
        },
        "id": "6JrMA8pQjqtG",
        "outputId": "c699c465-a4fd-4b46-ec10-6c8a92665565"
      },
      "execution_count": null,
      "outputs": [
        {
          "output_type": "stream",
          "name": "stdout",
          "text": [
            "Overwriting 2.c\n"
          ]
        }
      ]
    },
    {
      "cell_type": "code",
      "source": [
        "!gcc 2.c"
      ],
      "metadata": {
        "id": "pKhT0UOVjzr2"
      },
      "execution_count": null,
      "outputs": []
    },
    {
      "cell_type": "code",
      "source": [
        "!./a.out"
      ],
      "metadata": {
        "colab": {
          "base_uri": "https://localhost:8080/"
        },
        "id": "0IIAQggsj2eq",
        "outputId": "25b98a65-6788-4a87-a4ea-d76e6bd50c5f"
      },
      "execution_count": null,
      "outputs": [
        {
          "output_type": "stream",
          "name": "stdout",
          "text": [
            "Parent process ID: 1158\n",
            "Child process ID: 1159\n"
          ]
        }
      ]
    },
    {
      "cell_type": "markdown",
      "metadata": {
        "id": "QHpy5atwnJCV"
      },
      "source": [
        "# **3. FIRST COME FIRST SERVE - CPU SCHEDULING ALGORITHM**"
      ]
    },
    {
      "cell_type": "markdown",
      "source": [
        "    ALGORITHM:\n",
        "    Step 1 : Input Number of Processes\n",
        "    Step 2: Input the processes burst time (bt).\n",
        "    Step 3: Find waiting time (wt) for all processes.\n",
        "        ● As first process that comes need not to wait so waiting time for process 1 will be 0, i.e., wt[0] = 0.\n",
        "        ● Find waiting time for all other processes i.e. for process i ->wt[i] = bt[i-1] + wt[i-1] .\n",
        "    Step 4: Find turnaround time = waiting_time + burst_time for all processes.\n",
        "    Step 5: Find average waiting time = total_waiting_time / no_of_processes.\n",
        "    Step 6: Similarly, find average turnaround time = total_turn_around_time / no_of_processes."
      ],
      "metadata": {
        "id": "LmXx3vkyxASA"
      }
    },
    {
      "cell_type": "code",
      "execution_count": null,
      "metadata": {
        "colab": {
          "base_uri": "https://localhost:8080/"
        },
        "id": "Ecm701RCDbzS",
        "outputId": "010bd0e7-cd15-4505-a598-66a4a3dfc1cf"
      },
      "outputs": [
        {
          "name": "stdout",
          "output_type": "stream",
          "text": [
            "Overwriting FCFS.c\n"
          ]
        }
      ],
      "source": [
        "%%writefile FCFS.c\n",
        "#include <stdio.h>\n",
        "\n",
        "int main() {\n",
        "    int pid[15], bt[15], wt[15], n;\n",
        "    float twt = 0, tat = 0;\n",
        "\n",
        "    printf(\"Enter the number of processes: \");\n",
        "    scanf(\"%d\", &n);\n",
        "\n",
        "    printf(\"Enter process IDs and burst times (ID BT):\\n\");\n",
        "    for (int i = 0; i < n; i++) {\n",
        "        scanf(\"%d %d\", &pid[i], &bt[i]);\n",
        "    }\n",
        "\n",
        "    wt[0] = 0; // First process has no waiting time\n",
        "\n",
        "    for (int i = 1; i < n; i++) {\n",
        "        wt[i] = wt[i - 1] + bt[i - 1];\n",
        "        twt += wt[i]; // Add to total waiting time\n",
        "    }\n",
        "\n",
        "    printf(\"Process ID  Burst Time  Waiting Time  TurnAround Time\\n\");\n",
        "    for (int i = 0; i < n; i++) {\n",
        "        int tat_i = wt[i] + bt[i]; // Turnaround time for each process\n",
        "        tat += tat_i;             // Add to total turnaround time\n",
        "        printf(\"%d           %d            %d            %d\\n\", pid[i], bt[i], wt[i], tat_i);\n",
        "    }\n",
        "\n",
        "    printf(\"Average Waiting Time = %.2f\\n\", twt / n);\n",
        "    printf(\"Average Turnaround Time = %.2f\\n\", tat / n);\n",
        "\n",
        "    return 0;\n",
        "}\n"
      ]
    },
    {
      "cell_type": "code",
      "execution_count": null,
      "metadata": {
        "id": "BSF5F5SIneAv"
      },
      "outputs": [],
      "source": [
        "!gcc FCFS.c"
      ]
    },
    {
      "cell_type": "code",
      "execution_count": null,
      "metadata": {
        "colab": {
          "base_uri": "https://localhost:8080/"
        },
        "id": "hrUfoMgRngnc",
        "outputId": "d1ab20f2-603b-46f3-fc5e-8a2d46dedc1c"
      },
      "outputs": [
        {
          "name": "stdout",
          "output_type": "stream",
          "text": [
            "Enter the number of processes: 3\n",
            "Enter process IDs and burst times (ID BT):\n",
            "1 10\n",
            "2 5\n",
            "3 8\n",
            "Process ID  Burst Time  Waiting Time  TurnAround Time\n",
            "1           10            0            10\n",
            "2           5            10            15\n",
            "3           8            15            23\n",
            "Average Waiting Time = 8.33\n",
            "Average Turnaround Time = 16.00\n"
          ]
        }
      ],
      "source": [
        "!./a.out"
      ]
    },
    {
      "cell_type": "markdown",
      "metadata": {
        "id": "JngBxtlQnbQc"
      },
      "source": [
        "# **4. SHORTEST JOB FIRST - CPU SCHEDULING ALGORITHM**"
      ]
    },
    {
      "cell_type": "markdown",
      "source": [
        "    ALGORITHM:\n",
        "    Step 1: Enter number of processes.\n",
        "    Step 2: Enter the burst time of all the processes.\n",
        "    Step 3: Sort all the processes according to their burst time and its respective process number.\n",
        "    Step 4: Find waiting time, WT of all the processes.\n",
        "    Step 5: For the smallest process, WT = 0.\n",
        "    Step 6: For all the next processes i, find waiting time by adding burst time of all the previously completed process.\n",
        "    Step 7: Calculate Turnaround time = WT + BT for all the processes.\n",
        "    Step 8: Calculate average waiting time = total waiting time / no. of processes.\n",
        "    Step 9: Calculate average turnaround time= total turnaround time / no. of processes."
      ],
      "metadata": {
        "id": "rrhF_RgWxdQE"
      }
    },
    {
      "cell_type": "code",
      "execution_count": null,
      "metadata": {
        "colab": {
          "base_uri": "https://localhost:8080/"
        },
        "id": "FLeePhxGoYoU",
        "outputId": "e322eb79-b827-4472-fb2e-d5d7fed4a2a7"
      },
      "outputs": [
        {
          "output_type": "stream",
          "name": "stdout",
          "text": [
            "Writing SJF.c\n"
          ]
        }
      ],
      "source": [
        "%%writefile SJF.c\n",
        "#include <stdio.h>\n",
        "\n",
        "int main() {\n",
        "    int n, pid[15], bt[15], wt[15], tat[15];\n",
        "    float twt = 0, ttat = 0;\n",
        "\n",
        "    printf(\"Enter the number of processes: \");\n",
        "    scanf(\"%d\", &n);\n",
        "\n",
        "    printf(\"Enter process IDs and burst times (ID BT):\\n\");\n",
        "    for (int i = 0; i < n; i++) {\n",
        "        scanf(\"%d %d\", &pid[i], &bt[i]);\n",
        "    }\n",
        "\n",
        "    // Sort processes by burst time (SJF logic)\n",
        "    for (int i = 0; i < n - 1; i++) {\n",
        "        for (int j = 0; j < n - i - 1; j++) {\n",
        "            if (bt[j] > bt[j + 1]) {\n",
        "                // Swap burst times\n",
        "                int temp = bt[j];\n",
        "                bt[j] = bt[j + 1];\n",
        "                bt[j + 1] = temp;\n",
        "                // Swap process IDs\n",
        "                temp = pid[j];\n",
        "                pid[j] = pid[j + 1];\n",
        "                pid[j + 1] = temp;\n",
        "            }\n",
        "        }\n",
        "    }\n",
        "\n",
        "    wt[0] = 0; // First process has no waiting time\n",
        "\n",
        "    for (int i = 1; i < n; i++) {\n",
        "        wt[i] = wt[i - 1] + bt[i - 1]; // Calculate waiting time\n",
        "        twt += wt[i];                 // Add to total waiting time\n",
        "    }\n",
        "\n",
        "    printf(\"Process ID  Burst Time  Waiting Time  TurnAround Time\\n\");\n",
        "    for (int i = 0; i < n; i++) {\n",
        "        tat[i] = wt[i] + bt[i]; // Turnaround time for each process\n",
        "        ttat += tat[i];         // Add to total turnaround time\n",
        "        printf(\"%d           %d            %d            %d\\n\", pid[i], bt[i], wt[i], tat[i]);\n",
        "    }\n",
        "\n",
        "    printf(\"Average Waiting Time = %.2f\\n\", twt / n);\n",
        "    printf(\"Average Turnaround Time = %.2f\\n\", ttat / n);\n",
        "\n",
        "    return 0;\n",
        "}"
      ]
    },
    {
      "cell_type": "code",
      "execution_count": null,
      "metadata": {
        "id": "1kT8YaYPogGF"
      },
      "outputs": [],
      "source": [
        "!gcc SJF.c"
      ]
    },
    {
      "cell_type": "code",
      "execution_count": null,
      "metadata": {
        "colab": {
          "base_uri": "https://localhost:8080/"
        },
        "id": "F3vBOC5dokXl",
        "outputId": "f059e54b-611e-4bef-df7f-240d1ddf5405"
      },
      "outputs": [
        {
          "output_type": "stream",
          "name": "stdout",
          "text": [
            "Enter the number of processes: 4\n",
            "Enter process IDs and burst times (ID BT):\n",
            "1 6\n",
            "2 8\n",
            "3 7\n",
            "4 3\n",
            "Process ID  Burst Time  Waiting Time  TurnAround Time\n",
            "4           3            0            3\n",
            "1           6            3            9\n",
            "3           7            9            16\n",
            "2           8            16            24\n",
            "Average Waiting Time = 7.00\n",
            "Average Turnaround Time = 13.00\n"
          ]
        }
      ],
      "source": [
        "!./a.out"
      ]
    },
    {
      "cell_type": "markdown",
      "metadata": {
        "id": "eo8q6a0BqK5d"
      },
      "source": [
        "#**5. SHORTEST REMAINING TIME FIRST (SRTF) - CPU SCHEDULING ALGORITHM**\n"
      ]
    },
    {
      "cell_type": "markdown",
      "source": [
        "    ALGORITHM:\n",
        "    Step 1: Enter number of processes.\n",
        "    Step 2: Enter the burst time and arrival time of all the processes.\n",
        "    Step 3: Sort all the processes according to their arrival time and its respective process burst time.\n",
        "    Step 4 Traverse until all process gets completely executed.\n",
        "        ● Find process with minimum remaining time at every single time lap.\n",
        "        ● Reduce its time by 1.\n",
        "        ● Check if its remaining time becomes 0\n",
        "        ● Increment the counter of process completion.\n",
        "        ● Completion time of current process = current_time + 1;\n",
        "        ● Calculate waiting time for each completed process.\n",
        "        ● wt[i]= Completion time – arrival_time-burst_time\n",
        "        ● Increment time lap by one.\n",
        "    Step 5: Calculate Turnaround time = WT + BT for all the processes.\n",
        "    Step 6: Calculate average waiting time = total waiting time / no. of processes.\n",
        "    Step 7 Calculate average turnaround time= total turnaround time / no. of processes."
      ],
      "metadata": {
        "id": "uBv8NQfExqLs"
      }
    },
    {
      "cell_type": "code",
      "execution_count": null,
      "metadata": {
        "colab": {
          "base_uri": "https://localhost:8080/"
        },
        "id": "_dkIhalLqVM6",
        "outputId": "633de1f4-c8bb-44c0-e02c-15e9d157705f"
      },
      "outputs": [
        {
          "output_type": "stream",
          "name": "stdout",
          "text": [
            "Overwriting SRTF.c\n"
          ]
        }
      ],
      "source": [
        "%%writefile SRTF.c\n",
        "#include <stdio.h>\n",
        "\n",
        "int main() {\n",
        "    int n, i, smallest, time, count = 0, end_time;\n",
        "    int at[10], bt[10], rt[10]; // Arrival Time, Burst Time, Remaining Time\n",
        "    int wt = 0, tat = 0, completed = 0;\n",
        "    float avg_wt, avg_tat;\n",
        "\n",
        "    printf(\"Enter the number of processes: \");\n",
        "    scanf(\"%d\", &n);\n",
        "\n",
        "    printf(\"\\nEnter Arrival Time and Burst Time for each process:\\n\");\n",
        "    for (i = 0; i < n; i++) {\n",
        "        printf(\"Process %d:\\n\", i + 1);\n",
        "        printf(\"Arrival Time & Burst Time for Process-%d: \", i+1);\n",
        "        scanf(\"%d %d\", &at[i], &bt[i]);\n",
        "        rt[i] = bt[i]; // Initialize remaining time as burst time\n",
        "    }\n",
        "\n",
        "    printf(\"\\nProcess\\tArrival Time\\tBurst Time\\tTurnaround Time\\tWaiting Time\\n\");\n",
        "\n",
        "    // Variables for tracking\n",
        "    int total_wt = 0, total_tat = 0;\n",
        "\n",
        "    for (time = 0; completed < n; time++) {\n",
        "        smallest = -1;\n",
        "\n",
        "        // Find the process with the smallest remaining time that has arrived\n",
        "        for (i = 0; i < n; i++) {\n",
        "            if (at[i] <= time && rt[i] > 0) {\n",
        "                if (smallest == -1 || rt[i] < rt[smallest]) {\n",
        "                    smallest = i;\n",
        "                }\n",
        "            }\n",
        "        }\n",
        "\n",
        "        if (smallest == -1) {\n",
        "            continue; // If no process is ready, skip the time unit\n",
        "        }\n",
        "\n",
        "        // Execute the selected process\n",
        "        rt[smallest]--;\n",
        "\n",
        "        // Check if the process is completed\n",
        "        if (rt[smallest] == 0) {\n",
        "            completed++;\n",
        "            end_time = time + 1; // Time at which the process completes\n",
        "            int turnaround_time = end_time - at[smallest];\n",
        "            int waiting_time = turnaround_time - bt[smallest];\n",
        "\n",
        "            total_tat += turnaround_time;\n",
        "            total_wt += waiting_time;\n",
        "\n",
        "            // Print details for the completed process\n",
        "            printf(\"P%d\\t%d\\t\\t%d\\t\\t%d\\t\\t%d\\n\",\n",
        "                   smallest + 1, at[smallest], bt[smallest], turnaround_time, waiting_time);\n",
        "        }\n",
        "    }\n",
        "\n",
        "    // Calculate averages\n",
        "    avg_wt = (float)total_wt / n;\n",
        "    avg_tat = (float)total_tat / n;\n",
        "\n",
        "    printf(\"\\nAverage Turnaround Time = %.2f\", avg_tat);\n",
        "    printf(\"\\nAverage Waiting Time = %.2f\\n\", avg_wt);\n",
        "\n",
        "    return 0;\n",
        "}\n"
      ]
    },
    {
      "cell_type": "code",
      "execution_count": null,
      "metadata": {
        "id": "EUWvR2NMq_BX"
      },
      "outputs": [],
      "source": [
        "!gcc SRTF.c"
      ]
    },
    {
      "cell_type": "code",
      "execution_count": null,
      "metadata": {
        "colab": {
          "base_uri": "https://localhost:8080/"
        },
        "id": "iJnauW1GrHkE",
        "outputId": "ee0098f9-811d-4251-e03b-be5c633551c9"
      },
      "outputs": [
        {
          "output_type": "stream",
          "name": "stdout",
          "text": [
            "Enter the number of processes: 4\n",
            "\n",
            "Enter Arrival Time and Burst Time for each process:\n",
            "Process 1:\n",
            "Arrival Time & Burst Time for Process-1: 0 8\n",
            "Process 2:\n",
            "Arrival Time & Burst Time for Process-2: 1 4\n",
            "Process 3:\n",
            "Arrival Time & Burst Time for Process-3: 2 9\n",
            "Process 4:\n",
            "Arrival Time & Burst Time for Process-4: 3 5\n",
            "\n",
            "Process\tArrival Time\tBurst Time\tTurnaround Time\tWaiting Time\n",
            "P2\t1\t\t4\t\t4\t\t0\n",
            "P4\t3\t\t5\t\t7\t\t2\n",
            "P1\t0\t\t8\t\t17\t\t9\n",
            "P3\t2\t\t9\t\t24\t\t15\n",
            "\n",
            "Average Turnaround Time = 13.00\n",
            "Average Waiting Time = 6.50\n"
          ]
        }
      ],
      "source": [
        "!./a.out"
      ]
    },
    {
      "cell_type": "markdown",
      "source": [
        "# **6. PRIORITY - CPU SCHEDULING ALGORITHM**"
      ],
      "metadata": {
        "id": "iFP3pQY8utc7"
      }
    },
    {
      "cell_type": "markdown",
      "source": [
        "    ALGORITHM:\n",
        "    Step 1: Take input for number of process, Burst time and priority of each process.\n",
        "    Step 2: Sort the processes in ascending order based on priority of each process.\n",
        "    Step 3: Find the waiting time for each process\n",
        "    Step: 4: Calculate the turnaround time of each process.\n",
        "    Step 5: Calculate average waiting time and average turnaround time."
      ],
      "metadata": {
        "id": "IYbsu5bXx7Mc"
      }
    },
    {
      "cell_type": "code",
      "source": [
        "%%writefile Priority.c\n",
        "#include <stdio.h>\n",
        "\n",
        "int main() {\n",
        "    int bt[20], p[20], pri[20], wt[20], tat[20], i, j, n, total = 0, totalT = 0, pos, temp;\n",
        "    float avg_wt, avg_tat;\n",
        "\n",
        "    // Get the number of processes\n",
        "    printf(\"Enter number of processes: \");\n",
        "    scanf(\"%d\", &n);\n",
        "\n",
        "    // Get burst time and priority for each process\n",
        "    printf(\"\\nEnter Burst Time and Priority:\\n\");\n",
        "    for (i = 0; i < n; i++) {\n",
        "        printf(\"Enter Burst Time for p%d: \", i + 1);\n",
        "        scanf(\"%d\", &bt[i]);\n",
        "        printf(\"Enter Priority for p%d: \", i + 1);\n",
        "        scanf(\"%d\", &pri[i]);\n",
        "        p[i] = i + 1; // Process ID\n",
        "    }\n",
        "\n",
        "    // Sorting processes based on priority (ascending order)\n",
        "    for (i = 0; i < n; i++) {\n",
        "        pos = i;\n",
        "        for (j = i + 1; j < n; j++) {\n",
        "            if (pri[j] < pri[pos]) {\n",
        "                pos = j; // Find process with higher priority (lower value)\n",
        "            }\n",
        "        }\n",
        "\n",
        "        // Swap priorities, burst times, and process IDs\n",
        "        temp = pri[i];\n",
        "        pri[i] = pri[pos];\n",
        "        pri[pos] = temp;\n",
        "\n",
        "        temp = bt[i];\n",
        "        bt[i] = bt[pos];\n",
        "        bt[pos] = temp;\n",
        "\n",
        "        temp = p[i];\n",
        "        p[i] = p[pos];\n",
        "        p[pos] = temp;\n",
        "    }\n",
        "\n",
        "    wt[0] = 0; // Waiting time for the first process is 0\n",
        "\n",
        "    // Simplified waiting time calculation\n",
        "    for (i = 1; i < n; i++) {\n",
        "        wt[i] = wt[i - 1] + bt[i - 1]; // Calculate waiting time for each process\n",
        "        total += wt[i]; // Add to total waiting time\n",
        "    }\n",
        "\n",
        "    avg_wt = (float)total / n; // Average waiting time\n",
        "\n",
        "    // Calculate turnaround time for each process and total turnaround time\n",
        "    printf(\"\\nProcess\\tBurst Time\\tPriority\\tWaiting Time\\tTurnaround Time\\n\");\n",
        "    for (i = 0; i < n; i++) {\n",
        "        tat[i] = bt[i] + wt[i]; // Turnaround time = Burst Time + Waiting Time\n",
        "        totalT += tat[i]; // Total Turnaround Time\n",
        "        printf(\"p%d\\t\\t%d\\t\\t%d\\t\\t%d\\t\\t%d\\n\", p[i], bt[i], pri[i], wt[i], tat[i]);\n",
        "    }\n",
        "\n",
        "    avg_tat = (float)totalT / n; // Average turnaround time\n",
        "\n",
        "    // Print average waiting and turnaround times\n",
        "    printf(\"\\nAverage Waiting Time = %.2f\", avg_wt);\n",
        "    printf(\"\\nAverage Turnaround Time = %.2f\\n\", avg_tat);\n",
        "\n",
        "    return 0;\n",
        "}\n"
      ],
      "metadata": {
        "colab": {
          "base_uri": "https://localhost:8080/"
        },
        "id": "bzZyE9CXciWe",
        "outputId": "6d8bd271-8ec0-4ded-f28d-283ed043c50b"
      },
      "execution_count": null,
      "outputs": [
        {
          "output_type": "stream",
          "name": "stdout",
          "text": [
            "Writing Priority.c\n"
          ]
        }
      ]
    },
    {
      "cell_type": "code",
      "source": [
        "!gcc Priority.c"
      ],
      "metadata": {
        "id": "s4ywqGkActja"
      },
      "execution_count": null,
      "outputs": []
    },
    {
      "cell_type": "code",
      "source": [
        "!./a.out\n"
      ],
      "metadata": {
        "colab": {
          "base_uri": "https://localhost:8080/"
        },
        "id": "5KSBv2PYcyNV",
        "outputId": "d27644f4-d8f3-4ee6-ac00-1ee2dc9d8ff2"
      },
      "execution_count": null,
      "outputs": [
        {
          "output_type": "stream",
          "name": "stdout",
          "text": [
            "Enter number of processes: 4\n",
            "\n",
            "Enter Burst Time and Priority:\n",
            "Enter Burst Time for p1: 5 3 3 1 8 2 6 4\n",
            "Enter Priority for p1: Enter Burst Time for p2: Enter Priority for p2: Enter Burst Time for p3: Enter Priority for p3: Enter Burst Time for p4: Enter Priority for p4: \n",
            "Process\tBurst Time\tPriority\tWaiting Time\tTurnaround Time\n",
            "p2\t\t3\t\t1\t\t0\t\t3\n",
            "p3\t\t8\t\t2\t\t3\t\t11\n",
            "p1\t\t5\t\t3\t\t11\t\t16\n",
            "p4\t\t6\t\t4\t\t16\t\t22\n",
            "\n",
            "Average Waiting Time = 7.50\n",
            "Average Turnaround Time = 13.00\n"
          ]
        }
      ]
    },
    {
      "cell_type": "markdown",
      "source": [
        "# **7. ROUND ROBIN SCHEDULING - CPU SCHEDULING ALGORITHMS**"
      ],
      "metadata": {
        "id": "e8TWHe51dERt"
      }
    },
    {
      "cell_type": "markdown",
      "source": [
        "    ALGORITHM:\n",
        "    Step 1: Take input for number of process and Burst time of each process.\n",
        "    Step 2: Take input for time quantum\n",
        "    Step 3: Find the waiting time for each process\n",
        "    Step 4: Calculate the turnaround time of each process.\n",
        "    Step 5: Calculate average waiting time and average turnaround time."
      ],
      "metadata": {
        "id": "8f5l_dQmyrx1"
      }
    },
    {
      "cell_type": "code",
      "source": [
        "%%writefile RR.c\n",
        "\n",
        "#include <stdio.h>\n",
        "\n",
        "int main() {\n",
        "    // Input number of processes\n",
        "    int n;\n",
        "    printf(\"Enter Total Number of Processes: \");\n",
        "    scanf(\"%d\", &n);\n",
        "\n",
        "    // Declare necessary arrays and variables\n",
        "    int wait_time = 0, ta_time = 0;\n",
        "    int arr_time[n], burst_time[n], temp_burst_time[n];\n",
        "    int x = n; // Process count\n",
        "\n",
        "    // Input process details (arrival time and burst time)\n",
        "    for (int i = 0; i < n; i++) {\n",
        "        printf(\"Enter Details of Process %d:\\n\", i + 1);\n",
        "        printf(\"Arrival Time: \");\n",
        "        scanf(\"%d\", &arr_time[i]);\n",
        "        printf(\"Burst Time: \");\n",
        "        scanf(\"%d\", &burst_time[i]);\n",
        "        temp_burst_time[i] = burst_time[i]; // Save the burst time for processing\n",
        "    }\n",
        "\n",
        "    // Input time slot for round-robin scheduling\n",
        "    int time_slot;\n",
        "    printf(\"Enter Time Slot: \");\n",
        "    scanf(\"%d\", &time_slot);\n",
        "\n",
        "    // Initialize counters\n",
        "    int total = 0, counter = 0, i = 0;\n",
        "    printf(\"\\nProcess ID\\tBurst Time\\tTurnaround Time\\tWaiting Time\\n\");\n",
        "\n",
        "    // Round Robin Scheduling\n",
        "    while (x != 0) {\n",
        "        // If the process can be completed within the time slot\n",
        "        if (temp_burst_time[i] <= time_slot && temp_burst_time[i] > 0) {\n",
        "            total += temp_burst_time[i];\n",
        "            temp_burst_time[i] = 0; // Process completed\n",
        "            counter = 1; // Mark process as completed\n",
        "        }\n",
        "        // If the process needs more time\n",
        "        else if (temp_burst_time[i] > 0) {\n",
        "            temp_burst_time[i] -= time_slot;\n",
        "            total += time_slot;\n",
        "        }\n",
        "\n",
        "        // When a process is completed\n",
        "        if (temp_burst_time[i] == 0 && counter == 1) {\n",
        "            x--; // Decrease process count\n",
        "            printf(\"P%d\\t\\t%d\\t\\t%d\\t\\t%d\\n\", i + 1, burst_time[i],\n",
        "                   total - arr_time[i], total - arr_time[i] - burst_time[i]);\n",
        "            // Calculate waiting and turnaround times\n",
        "            wait_time += total - arr_time[i] - burst_time[i];\n",
        "            ta_time += total - arr_time[i];\n",
        "            counter = 0; // Reset counter for the next process\n",
        "        }\n",
        "\n",
        "        // Move to the next process\n",
        "        if (i == n - 1) {\n",
        "            i = 0; // Reset to the first process\n",
        "        }\n",
        "        else if (arr_time[i + 1] <= total) {\n",
        "            i++;\n",
        "        }\n",
        "        else {\n",
        "            i = 0; // Reset if no process is ready\n",
        "        }\n",
        "    }\n",
        "\n",
        "    // Calculate and print the average waiting and turnaround times\n",
        "    float average_wait_time = wait_time * 1.0 / n;\n",
        "    float average_turnaround_time = ta_time * 1.0 / n;\n",
        "    printf(\"\\nAverage Waiting Time: %.2f\", average_wait_time);\n",
        "    printf(\"\\nAverage Turnaround Time: %.2f\\n\", average_turnaround_time);\n",
        "\n",
        "\n",
        "    return 0;\n",
        "}\n"
      ],
      "metadata": {
        "colab": {
          "base_uri": "https://localhost:8080/"
        },
        "id": "VgataHoGdDxw",
        "outputId": "ecfae29c-ceeb-4502-9907-3b5497a5e084"
      },
      "execution_count": null,
      "outputs": [
        {
          "output_type": "stream",
          "name": "stdout",
          "text": [
            "Overwriting RR.c\n"
          ]
        }
      ]
    },
    {
      "cell_type": "code",
      "source": [
        "!gcc RR.c"
      ],
      "metadata": {
        "id": "NJlsgQpudvfL"
      },
      "execution_count": null,
      "outputs": []
    },
    {
      "cell_type": "code",
      "source": [
        "!./a.out"
      ],
      "metadata": {
        "colab": {
          "base_uri": "https://localhost:8080/"
        },
        "id": "agsCppD5eEhj",
        "outputId": "43fc24ca-7717-4871-af83-83f832cbf015"
      },
      "execution_count": null,
      "outputs": [
        {
          "output_type": "stream",
          "name": "stdout",
          "text": [
            "Enter Total Number of Processes: 3\n",
            "Enter Details of Process 1:\n",
            "Arrival Time: 1\n",
            "Burst Time: 5\n",
            "Enter Details of Process 2:\n",
            "Arrival Time: 1\n",
            "Burst Time: 3\n",
            "Enter Details of Process 3:\n",
            "Arrival Time: 1\n",
            "Burst Time: 3\n",
            "Enter Time Slot: 2\n",
            "\n",
            "Process ID\tBurst Time\tTurnaround Time\tWaiting Time\n",
            "P2\t\t3\t\t8\t\t5\n",
            "P3\t\t3\t\t9\t\t6\n",
            "P1\t\t5\t\t10\t\t5\n",
            "\n",
            "Average Waiting Time: 5.33\n",
            "Average Turnaround Time: 9.00\n"
          ]
        }
      ]
    },
    {
      "cell_type": "markdown",
      "source": [
        "# **8. PRODUCER CONSUMER PROBLEM USING SEMAPHORES**"
      ],
      "metadata": {
        "id": "UdX2d2LTuUj9"
      }
    },
    {
      "cell_type": "markdown",
      "source": [
        "    ALGORITHM:\n",
        "    Step 1: Start the program.\n",
        "    Step 2: Declare the required variables.\n",
        "    Step 3: Initialize the buffer size and get maximum item you want to produce.\n",
        "    Step 4: Get the option, which you want to do either producer, consumer or exit from the operation.\n",
        "    Step 5: If you select the producer, check the buffer size if it is full the producer should not produce the item or otherwise produce\n",
        "    the item and increase the value buffer size.\n",
        "    Step 6: If you select the consumer, check the buffer size if it is empty the consumer should not consume the item or otherwise consume\n",
        "    the item and decrease the value of buffer size.\n",
        "    Step 7: If you select exit come out of the program.\n",
        "    Step 8: Stop the program."
      ],
      "metadata": {
        "id": "lSYwWh9KywLJ"
      }
    },
    {
      "cell_type": "code",
      "execution_count": null,
      "metadata": {
        "colab": {
          "base_uri": "https://localhost:8080/"
        },
        "id": "B9Zb-RhZds-r",
        "outputId": "ea78e1eb-4df5-428e-86ec-2adff6999906"
      },
      "outputs": [
        {
          "output_type": "stream",
          "name": "stdout",
          "text": [
            "Writing producer_consumer.c\n"
          ]
        }
      ],
      "source": [
        "%%writefile producer_consumer.c\n",
        "\n",
        "#include <stdio.h>\n",
        "#include <stdlib.h>\n",
        "\n",
        "int mutex = 1, full = 0, empty = 3, x = 0;\n",
        "int wait(int s) {\n",
        "    return (--s);\n",
        "}\n",
        "\n",
        "int signal(int s) {\n",
        "    return (++s);\n",
        "}\n",
        "\n",
        "void producer() {\n",
        "    mutex = wait(mutex);\n",
        "    full = signal(full);\n",
        "    empty = wait(empty);\n",
        "    x++;\n",
        "    printf(\"\\nProducer produces the item %d\\n\", x);\n",
        "    mutex = signal(mutex);\n",
        "}\n",
        "\n",
        "void consumer() {\n",
        "    mutex = wait(mutex);\n",
        "    full = wait(full);\n",
        "    empty = signal(empty);\n",
        "    printf(\"\\nConsumer consumes item %d\\n\", x);\n",
        "    x--;\n",
        "    mutex = signal(mutex);\n",
        "}\n",
        "\n",
        "\n",
        "  int main() {\n",
        "      int n;\n",
        "\n",
        "      printf(\"\\n1.PRODUCER\\n2.CONSUMER\\n3.EXIT\\n\");\n",
        "\n",
        "      while(1) {\n",
        "          printf(\"\\nENTER YOUR CHOICE: \");\n",
        "          scanf(\"%d\", &n);\n",
        "\n",
        "          switch(n) {\n",
        "              case 1:\n",
        "                  if((mutex == 1) && (empty != 0))\n",
        "                      producer();\n",
        "                  else\n",
        "                      printf(\"BUFFER IS FULL\\n\");\n",
        "                  break;\n",
        "\n",
        "              case 2:\n",
        "                  if((mutex == 1) && (full != 0))\n",
        "                      consumer();\n",
        "                  else\n",
        "                      printf(\"BUFFER IS EMPTY\\n\");\n",
        "                  break;\n",
        "\n",
        "              case 3: printf(\"Exiting the program.\");\n",
        "                  exit(0);\n",
        "                  break;\n",
        "\n",
        "              default:\n",
        "                  printf(\"Invalid choice. Please try again.\\n\");\n",
        "                  break;\n",
        "          }\n",
        "      }\n",
        "      return 0;\n",
        "  }\n",
        "\n"
      ]
    },
    {
      "cell_type": "code",
      "execution_count": null,
      "metadata": {
        "id": "n5v9qqZrhnY1"
      },
      "outputs": [],
      "source": [
        "!gcc producer_consumer.c\n"
      ]
    },
    {
      "cell_type": "code",
      "execution_count": null,
      "metadata": {
        "colab": {
          "base_uri": "https://localhost:8080/"
        },
        "id": "RjZFmY06hpK8",
        "outputId": "04b108f8-2a81-4c46-ca58-763f1fed9bbf"
      },
      "outputs": [
        {
          "output_type": "stream",
          "name": "stdout",
          "text": [
            "\n",
            "1.PRODUCER\n",
            "2.CONSUMER\n",
            "3.EXIT\n",
            "\n",
            "ENTER YOUR CHOICE: 1\n",
            "\n",
            "Producer produces the item 1\n",
            "\n",
            "ENTER YOUR CHOICE: 1\n",
            "\n",
            "Producer produces the item 2\n",
            "\n",
            "ENTER YOUR CHOICE: 1\n",
            "\n",
            "Producer produces the item 3\n",
            "\n",
            "ENTER YOUR CHOICE: 1\n",
            "BUFFER IS FULL\n",
            "\n",
            "ENTER YOUR CHOICE: 1\n",
            "BUFFER IS FULL\n",
            "\n",
            "ENTER YOUR CHOICE: 2\n",
            "\n",
            "Consumer consumes item 3\n",
            "\n",
            "ENTER YOUR CHOICE: 2\n",
            "\n",
            "Consumer consumes item 2\n",
            "\n",
            "ENTER YOUR CHOICE: 2\n",
            "\n",
            "Consumer consumes item 1\n",
            "\n",
            "ENTER YOUR CHOICE: 2\n",
            "BUFFER IS EMPTY\n",
            "\n",
            "ENTER YOUR CHOICE: 3\n",
            "Exiting the program."
          ]
        }
      ],
      "source": [
        "!./a.out"
      ]
    },
    {
      "cell_type": "markdown",
      "source": [],
      "metadata": {
        "id": "a8ViCIQi0HgS"
      }
    },
    {
      "cell_type": "markdown",
      "source": [
        "# **9. IPC USING SHARED MEMORY**"
      ],
      "metadata": {
        "id": "NY3ZzZJtt0NQ"
      }
    },
    {
      "cell_type": "markdown",
      "source": [
        "    ALGORITHM:\n",
        "    Step 1: Start the process\n",
        "    Step 2: Declare the segment size\n",
        "    Step 3: Create the shared memory\n",
        "    Step 4: Read the data from the shared memory\n",
        "    Step 5: Write the data to the shared memory\n",
        "    Step 6: Edit the data\n",
        "    Step 7: Stop the process."
      ],
      "metadata": {
        "id": "pOL0f20jzGY5"
      }
    },
    {
      "cell_type": "code",
      "source": [
        "%%writefile IPC_sender.c\n",
        "\n",
        "#include<stdio.h>\n",
        "#include<stdlib.h>\n",
        "#include<unistd.h>\n",
        "#include<sys/shm.h>\n",
        "#include<string.h>\n",
        "int main()\n",
        "{\n",
        "int i;\n",
        "void *shared_memory;\n",
        "char buff[100];\n",
        "int shmid;\n",
        "shmid=shmget((key_t)2345, 1024, 0666|IPC_CREAT); //creates shared memory segment with key 2345, having size 1024 bytes. IPC_CREAT is used to create the shared segment if it does not exist. 0666 are the permisions on the shared segment\n",
        "printf(\"Key of shared memory is %d\\n\",shmid);\n",
        "shared_memory=shmat(shmid,NULL,0); //process attached to shared memory segment\n",
        "printf(\"Process attached at %p\\n\",shared_memory); //this prints the address where the segment is attached with this process\n",
        "printf(\"Enter some data to write to shared memory\\n\");\n",
        "read(0,buff,100); //get some input from user\n",
        "strcpy(shared_memory,buff); //data written to shared memory\n",
        "printf(\"You wrote : %s\\n\",(char *)shared_memory);\n",
        "system(\"ipcs -m\");\n",
        "}"
      ],
      "metadata": {
        "colab": {
          "base_uri": "https://localhost:8080/"
        },
        "id": "2DOun1oSt7pL",
        "outputId": "10eed50c-18c2-4fee-822d-339c20a85365"
      },
      "execution_count": null,
      "outputs": [
        {
          "output_type": "stream",
          "name": "stdout",
          "text": [
            "Writing IPC_sender.c\n"
          ]
        }
      ]
    },
    {
      "cell_type": "code",
      "source": [
        "!gcc IPC_sender.c"
      ],
      "metadata": {
        "id": "hFpqKMfYt-9m"
      },
      "execution_count": null,
      "outputs": []
    },
    {
      "cell_type": "code",
      "source": [
        "!./a.out"
      ],
      "metadata": {
        "colab": {
          "base_uri": "https://localhost:8080/"
        },
        "id": "Z314ulUyuAvn",
        "outputId": "7b69a152-c5c3-4757-f715-4c9f1b4250d8"
      },
      "execution_count": null,
      "outputs": [
        {
          "output_type": "stream",
          "name": "stdout",
          "text": [
            "Key of shared memory is 0\n",
            "Process attached at 0x7ce596c90000\n",
            "Enter some data to write to shared memory\n",
            "Namastey\n",
            "You wrote : Namastey\n",
            "\n",
            "\n",
            "------ Shared Memory Segments --------\n",
            "key        shmid      owner      perms      bytes      nattch     status      \n",
            "0x00000929 0          root       666        1024       1                       \n",
            "\n"
          ]
        }
      ]
    },
    {
      "cell_type": "code",
      "source": [
        "%%writefile IPC_Reciever.c\n",
        "#include<stdio.h>\n",
        "#include<stdlib.h>\n",
        "#include<unistd.h>\n",
        "#include<sys/shm.h>\n",
        "#include<string.h>\n",
        "int main()\n",
        "{\n",
        "int i;\n",
        "void *shared_memory;\n",
        "char buff[100];\n",
        "int shmid;\n",
        "shmid=shmget((key_t)2345, 1024, 0666);\n",
        "printf(\"Key of shared memory is %d\\n\",shmid);\n",
        "shared_memory=shmat(shmid,NULL,0); //process attached to shared memory segment\n",
        "printf(\"Process attached at %p\\n\",shared_memory);\n",
        "printf(\"Data read from shared memory is : %s\\n\",(char *)shared_memory);\n",
        "}"
      ],
      "metadata": {
        "colab": {
          "base_uri": "https://localhost:8080/"
        },
        "id": "W3nQYKTyuIxE",
        "outputId": "b080ebcc-4da0-4051-b6d6-e0d532fb147a"
      },
      "execution_count": null,
      "outputs": [
        {
          "output_type": "stream",
          "name": "stdout",
          "text": [
            "Writing IPC_Reciever.c\n"
          ]
        }
      ]
    },
    {
      "cell_type": "code",
      "source": [
        "!gcc IPC_Reciever.c"
      ],
      "metadata": {
        "id": "k5XrYNNluKkw"
      },
      "execution_count": null,
      "outputs": []
    },
    {
      "cell_type": "code",
      "source": [
        "!./a.out"
      ],
      "metadata": {
        "colab": {
          "base_uri": "https://localhost:8080/"
        },
        "id": "uIElQT7buMNC",
        "outputId": "59cbb1e6-d084-40e3-f53e-88385d5a520f"
      },
      "execution_count": null,
      "outputs": [
        {
          "output_type": "stream",
          "name": "stdout",
          "text": [
            "Key of shared memory is 0\n",
            "Process attached at 0x7c161086f000\n",
            "Data read from shared memory is : Namastey\n",
            "\n"
          ]
        }
      ]
    },
    {
      "cell_type": "markdown",
      "source": [
        "# **10. BANKERS ALGORITHM FOR DEADLOCK AVOIDANCE**"
      ],
      "metadata": {
        "id": "vqMyumYWtIx0"
      }
    },
    {
      "cell_type": "markdown",
      "source": [
        "    Algorithm:\n",
        "    Step-1: Start the program.\n",
        "    Step-2: Declare the memory for the process.\n",
        "    Step-3: Read the number of process, resources, allocation matrix and available matrix.\n",
        "    Step-4: Compare each and every process using the banker‟s algorithm.\n",
        "    Step-5: If the process is in safe state then it is a not a deadlock process otherwise it is a\n",
        "    deadlock process\n",
        "    Step-6: produce the result of state of process\n",
        "    Step-7: Stop the program"
      ],
      "metadata": {
        "id": "Ej8iaVYNzK63"
      }
    },
    {
      "cell_type": "code",
      "source": [
        "%%writefile bankers.c\n",
        "\n",
        "#include <stdio.h>\n",
        "\n",
        "int main() {\n",
        "    int p, c, count = 0, terminate = 0;\n",
        "    int alc[10][10], max[10][10], need[10][10], safe[10], available[10], done[10] = {0};\n",
        "\n",
        "    // Input number of processes and resources\n",
        "    printf(\"Enter the number of processes and resources: \");\n",
        "    scanf(\"%d %d\", &p, &c);\n",
        "\n",
        "    // Input allocation matrix\n",
        "    printf(\"Enter the allocation of resources for all processes (%d x %d matrix):\\n\", p, c);\n",
        "    for (int i = 0; i < p; i++) {\n",
        "        for (int j = 0; j < c; j++) {\n",
        "            scanf(\"%d\", &alc[i][j]);\n",
        "        }\n",
        "    }\n",
        "\n",
        "    // Input maximum matrix\n",
        "    printf(\"Enter the maximum resources required by each process (%d x %d matrix):\\n\", p, c);\n",
        "    for (int i = 0; i < p; i++) {\n",
        "        for (int j = 0; j < c; j++) {\n",
        "            scanf(\"%d\", &max[i][j]);\n",
        "        }\n",
        "    }\n",
        "\n",
        "    // Input available resources\n",
        "    printf(\"Enter the available resources (%d values):\\n\", c);\n",
        "    for (int i = 0; i < c; i++) {\n",
        "        scanf(\"%d\", &available[i]);\n",
        "    }\n",
        "\n",
        "    // Calculate the need matrix\n",
        "    printf(\"\\nNeed resources matrix:\\n\");\n",
        "    for (int i = 0; i < p; i++) {\n",
        "        for (int j = 0; j < c; j++) {\n",
        "            need[i][j] = max[i][j] - alc[i][j];\n",
        "            if (need[i][j] < 0) {\n",
        "                printf(\"Error: Need cannot be negative.\\n\");\n",
        "                return -1;\n",
        "            }\n",
        "            printf(\"%d\\t\", need[i][j]);\n",
        "        }\n",
        "        printf(\"\\n\");\n",
        "    }\n",
        "\n",
        "    // Banker's Algorithm\n",
        "    while (count < p) {\n",
        "        int found = 0;\n",
        "        for (int i = 0; i < p; i++) {\n",
        "            if (!done[i]) {\n",
        "                int j;\n",
        "                for (j = 0; j < c; j++) {\n",
        "                    if (need[i][j] > available[j]) {\n",
        "                        break;\n",
        "                    }\n",
        "                }\n",
        "\n",
        "                if (j == c) {\n",
        "                    // Safe to execute process\n",
        "                    safe[count++] = i;\n",
        "                    for (int k = 0; k < c; k++) {\n",
        "                        available[k] += alc[i][k];\n",
        "                    }\n",
        "                    done[i] = 1;\n",
        "                    found = 1;\n",
        "                }\n",
        "            }\n",
        "        }\n",
        "\n",
        "        if (!found) {\n",
        "            printf(\"System is not in a safe state.\\n\");\n",
        "            return -1;\n",
        "        }\n",
        "    }\n",
        "\n",
        "    // Output results\n",
        "    printf(\"\\nAvailable resources after completion:\\n\");\n",
        "    for (int i = 0; i < c; i++) {\n",
        "        printf(\"%d\\t\", available[i]);\n",
        "    }\n",
        "    printf(\"\\n\");\n",
        "\n",
        "    printf(\"Safe sequence is: \");\n",
        "    for (int i = 0; i < count; i++) {\n",
        "        printf(\"P%d \", safe[i]);\n",
        "    }\n",
        "    printf(\"\\n\");\n",
        "\n",
        "    return 0;\n",
        "}\n"
      ],
      "metadata": {
        "colab": {
          "base_uri": "https://localhost:8080/"
        },
        "id": "yocT7X7EtNVE",
        "outputId": "ee0b554f-5bd9-4be5-9dc7-d50cf0bfc080"
      },
      "execution_count": null,
      "outputs": [
        {
          "output_type": "stream",
          "name": "stdout",
          "text": [
            "Writing bankers.c\n"
          ]
        }
      ]
    },
    {
      "cell_type": "code",
      "source": [
        "!gcc bankers.c"
      ],
      "metadata": {
        "id": "qg7SWAvTtSJZ"
      },
      "execution_count": null,
      "outputs": []
    },
    {
      "cell_type": "code",
      "source": [
        "!./a.out"
      ],
      "metadata": {
        "colab": {
          "base_uri": "https://localhost:8080/"
        },
        "id": "tq3TWmGMtUOj",
        "outputId": "e698dd14-3a2e-4616-b6ea-79894487b4e5"
      },
      "execution_count": null,
      "outputs": [
        {
          "output_type": "stream",
          "name": "stdout",
          "text": [
            "Enter the number of processes and resources: 3 3\n",
            "Enter the allocation of resources for all processes (3 x 3 matrix):\n",
            "0 1 0\n",
            "2 0 0\n",
            "3 0 2\n",
            "Enter the maximum resources required by each process (3 x 3 matrix):\n",
            "7 5 3\n",
            "3 2 2\n",
            "9 0 2\n",
            "Enter the available resources (3 values):\n",
            "3 3 2\n",
            "\n",
            "Need resources matrix:\n",
            "7\t4\t3\t\n",
            "1\t2\t2\t\n",
            "6\t0\t0\t\n",
            "System is not in a safe state.\n"
          ]
        }
      ]
    },
    {
      "cell_type": "markdown",
      "source": [
        "# **11. FIRST FIT - MEMORY ALLOCATION METHODS FOR FIXED PARTITION**"
      ],
      "metadata": {
        "id": "YFTqot_vkK-h"
      }
    },
    {
      "cell_type": "markdown",
      "source": [
        "    ALGORITHM:\n",
        "    Step 1: Input memory blocks with size and processes with size.\n",
        "    Step 2: Initialize all memory blocks as free.\n",
        "    Step 3: Start by picking each process and check if it can be assigned to current block.\n",
        "    Step 4: If size-of-process <= size-of-block if yes then assign and check for next process.\n",
        "    Step 5: If not then keep checking the further blocks."
      ],
      "metadata": {
        "id": "YnetTIiozRZB"
      }
    },
    {
      "cell_type": "code",
      "execution_count": null,
      "metadata": {
        "id": "GYib_6T_hqZO",
        "colab": {
          "base_uri": "https://localhost:8080/"
        },
        "outputId": "e1e2cea3-1896-47fd-9013-b6d454b8152c"
      },
      "outputs": [
        {
          "output_type": "stream",
          "name": "stdout",
          "text": [
            "Writing firstfit.c\n"
          ]
        }
      ],
      "source": [
        "%%writefile firstfit.c\n",
        "\n",
        "#include<stdio.h>\n",
        "\n",
        "void main() {\n",
        "    int bsize[10], psize[10], bno, pno, flags[10], allocation[10], i, j;\n",
        "\n",
        "    // Initialize flags and allocation arrays\n",
        "    for (i = 0; i < 10; i++) {\n",
        "        flags[i] = 0;       // 0 means not allocated\n",
        "        allocation[i] = -1; // -1 means no process allocated to this block\n",
        "    }\n",
        "\n",
        "    // Get the number of blocks and their sizes\n",
        "    printf(\"Enter number of blocks: \");\n",
        "    scanf(\"%d\", &bno);\n",
        "    printf(\"\\nEnter size of each block: \");\n",
        "    for (i = 0; i < bno; i++) {\n",
        "        scanf(\"%d\", &bsize[i]);\n",
        "    }\n",
        "\n",
        "    // Get the number of processes and their sizes\n",
        "    printf(\"\\nEnter number of processes: \");\n",
        "    scanf(\"%d\", &pno);\n",
        "    printf(\"\\nEnter size of each process: \");\n",
        "    for (i = 0; i < pno; i++) {\n",
        "        scanf(\"%d\", &psize[i]);\n",
        "    }\n",
        "\n",
        "    // First-fit allocation algorithm\n",
        "    for (i = 0; i < pno; i++) { // Loop through each process\n",
        "        for (j = 0; j < bno; j++) { // Loop through each block\n",
        "            if (flags[j] == 0 && bsize[j] >= psize[i]) { // If block is free and large enough\n",
        "                allocation[j] = i; // Allocate process to block\n",
        "                flags[j] = 1; // Mark the block as allocated\n",
        "                break; // Move to the next process\n",
        "            }\n",
        "        }\n",
        "    }\n",
        "\n",
        "    // Display the allocation details\n",
        "    printf(\"\\nBlock no.\\tsize\\t\\tprocess no.\\t\\tsize\");\n",
        "    for (i = 0; i < bno; i++) {\n",
        "        printf(\"\\n%d\\t\\t%d\\t\\t\", i + 1, bsize[i]); // Block details\n",
        "        if (flags[i] == 1) { // If the block is allocated\n",
        "            printf(\"%d\\t\\t\\t%d\", allocation[i] + 1, psize[allocation[i]]);\n",
        "        } else { // If the block is not allocated\n",
        "            printf(\"Not allocated\");\n",
        "        }\n",
        "    }\n",
        "}\n"
      ]
    },
    {
      "cell_type": "code",
      "source": [
        "!gcc firstfit.c\n"
      ],
      "metadata": {
        "id": "HG93EXqokccm"
      },
      "execution_count": null,
      "outputs": []
    },
    {
      "cell_type": "code",
      "source": [
        "!./a.out"
      ],
      "metadata": {
        "colab": {
          "base_uri": "https://localhost:8080/"
        },
        "id": "vAsxZ8sKkekW",
        "outputId": "6f2bf8d7-b50b-4a3b-c358-0c88c4eddb18"
      },
      "execution_count": null,
      "outputs": [
        {
          "output_type": "stream",
          "name": "stdout",
          "text": [
            "Enter number of blocks: 4\n",
            "\n",
            "Enter size of each block: 100 200 300 400\n",
            "\n",
            "Enter number of processes: 3\n",
            "\n",
            "Enter size of each process: 150 250 350\n",
            "\n",
            "Block no.\tsize\t\tprocess no.\t\tsize\n",
            "1\t\t100\t\tNot allocated\n",
            "2\t\t200\t\t1\t\t\t150\n",
            "3\t\t300\t\t2\t\t\t250\n",
            "4\t\t400\t\t3\t\t\t350"
          ]
        }
      ]
    },
    {
      "cell_type": "markdown",
      "source": [
        "# **12. BEST FIT - MEMORY ALLOCATION METHODS FOR FIXED PARTITION**"
      ],
      "metadata": {
        "id": "-jyWeIPQsyeo"
      }
    },
    {
      "cell_type": "markdown",
      "source": [
        "    ALGORITHM:\n",
        "    Step 1: Input memory blocks and processes with sizes.\n",
        "    Step 2: Initialize all memory blocks as free.\n",
        "    Step 3: Start by picking each process and find the minimum block size that can be assigned to current process i.e.,\n",
        "    find min(bockSize[1], blockSize[2],. ... blockSize[n]) > processSize[current], if found then assign It to the current process.\n",
        "    Step 4: If not then leave that process and keep checking the further processes."
      ],
      "metadata": {
        "id": "XsgKA6kbzYEO"
      }
    },
    {
      "cell_type": "code",
      "source": [
        "%%writefile BestFit.c\n",
        "#include <stdio.h>\n",
        "\n",
        "void main() {\n",
        "    int fragment[20], b[20], p[20], i, j, nb, np, temp, lowest = 9999;\n",
        "    static int barray[20], parray[20];\n",
        "\n",
        "    printf(\"\\n\\t\\t\\tMemory Management Scheme - Best Fit\");\n",
        "\n",
        "    // Input number of blocks\n",
        "    printf(\"\\nEnter the number of blocks: \");\n",
        "    scanf(\"%d\", &nb);\n",
        "\n",
        "    // Input number of processes\n",
        "    printf(\"Enter the number of processes: \");\n",
        "    scanf(\"%d\", &np);\n",
        "\n",
        "    // Input sizes of blocks\n",
        "    printf(\"\\nEnter the size of the blocks:\\n\");\n",
        "    for (i = 1; i <= nb; i++) {\n",
        "        printf(\"Block no.%d: \", i);\n",
        "        scanf(\"%d\", &b[i]);\n",
        "    }\n",
        "\n",
        "    // Input sizes of processes\n",
        "    printf(\"\\nEnter the size of the processes:\\n\");\n",
        "    for (i = 1; i <= np; i++) {\n",
        "        printf(\"Process no.%d: \", i);\n",
        "        scanf(\"%d\", &p[i]);\n",
        "    }\n",
        "\n",
        "    // Best Fit Allocation\n",
        "    for (i = 1; i <= np; i++) {\n",
        "        lowest = 9999; // Reset the lowest for each process\n",
        "        parray[i] = 0; // Initialize no block allocated\n",
        "\n",
        "        for (j = 1; j <= nb; j++) {\n",
        "            if (barray[j] == 0) { // Block not yet allocated\n",
        "                temp = b[j] - p[i]; // Calculate fragment (remaining space)\n",
        "                if (temp >= 0 && temp < lowest) { // Find the best fitting block\n",
        "                    parray[i] = j; // Assign the block to the process\n",
        "                    lowest = temp; // Update the lowest fragment\n",
        "                }\n",
        "            }\n",
        "        }\n",
        "\n",
        "        if (parray[i] != 0) { // If a block was allocated\n",
        "            fragment[i] = lowest; // Store the fragment size\n",
        "            barray[parray[i]] = 1; // Mark block as allocated\n",
        "        } else {\n",
        "            fragment[i] = -1; // No suitable block found\n",
        "        }\n",
        "    }\n",
        "\n",
        "    // Display the results\n",
        "    printf(\"\\nProcess_no\\tProcess_size\\tBlock_no\\tBlock_size\\tFragment\");\n",
        "    for (i = 1; i <= np; i++) {\n",
        "        printf(\"\\n%d\\t\\t%d\\t\\t\", i, p[i]);\n",
        "        if (parray[i] != 0) {\n",
        "            printf(\"%d\\t\\t%d\\t\\t%d\", parray[i], b[parray[i]], fragment[i]);\n",
        "        } else {\n",
        "            printf(\"Not Allocated\");\n",
        "        }\n",
        "    }\n",
        "}\n",
        "\n"
      ],
      "metadata": {
        "colab": {
          "base_uri": "https://localhost:8080/"
        },
        "id": "73Oc4OUbkf6P",
        "outputId": "04e4a0ed-32c6-4648-f134-b6ba9a625a9c"
      },
      "execution_count": null,
      "outputs": [
        {
          "output_type": "stream",
          "name": "stdout",
          "text": [
            "Overwriting BestFit.c\n"
          ]
        }
      ]
    },
    {
      "cell_type": "code",
      "source": [
        "!gcc BestFit.c\n"
      ],
      "metadata": {
        "id": "zBxE-6KGmB7W"
      },
      "execution_count": null,
      "outputs": []
    },
    {
      "cell_type": "code",
      "source": [
        "!./a.out"
      ],
      "metadata": {
        "colab": {
          "base_uri": "https://localhost:8080/"
        },
        "id": "8TFHMVrjmE3e",
        "outputId": "d47c1eeb-4de4-49d7-a092-76dfc2f5a7b4"
      },
      "execution_count": null,
      "outputs": [
        {
          "output_type": "stream",
          "name": "stdout",
          "text": [
            "\n",
            "\t\t\tMemory Management Scheme - Best Fit\n",
            "Enter the number of blocks: 3\n",
            "Enter the number of processes: 3\n",
            "\n",
            "Enter the size of the blocks:\n",
            "Block no.1: 100\n",
            "Block no.2: 500\n",
            "Block no.3: 200\n",
            "\n",
            "Enter the size of the processes:\n",
            "Process no.1: 212\n",
            "Process no.2: 412\n",
            "Process no.3: 112\n",
            "\n",
            "Process_no\tProcess_size\tBlock_no\tBlock_size\tFragment\n",
            "1\t\t212\t\t2\t\t500\t\t288\n",
            "2\t\t412\t\tNot Allocated\n",
            "3\t\t112\t\t3\t\t200\t\t88"
          ]
        }
      ]
    },
    {
      "cell_type": "code",
      "source": [
        "!./a.out\n"
      ],
      "metadata": {
        "colab": {
          "base_uri": "https://localhost:8080/"
        },
        "id": "8NS3ayxTmGLd",
        "outputId": "2a9d2fe7-632d-414d-dfaf-02dad8057bf8"
      },
      "execution_count": null,
      "outputs": [
        {
          "output_type": "stream",
          "name": "stdout",
          "text": [
            "\n",
            "\t\t\tMemory Management Scheme - Best Fit\n",
            "Enter the number of blocks: 3\n",
            "Enter the number of processes: 3\n",
            "\n",
            "Enter the size of the blocks:\n",
            "Block no.1: 100\n",
            "Block no.2: 500\n",
            "Block no.3: 200\n",
            "\n",
            "Enter the size of the processes:\n",
            "Process no.1: 212\n",
            "Process no.2: 417\n",
            "Process no.3: 112\n",
            "\n",
            "Process_no\tProcess_size\tBlock_no\tBlock_size\tFragment\n",
            "1\t\t212\t\t2\t\t500\t\t288"
          ]
        }
      ]
    },
    {
      "cell_type": "code",
      "source": [
        "3"
      ],
      "metadata": {
        "id": "uYv7fkkSmaDH"
      },
      "execution_count": null,
      "outputs": []
    }
  ],
  "metadata": {
    "colab": {
      "provenance": [],
      "include_colab_link": true
    },
    "kernelspec": {
      "display_name": "Python 3",
      "name": "python3"
    },
    "language_info": {
      "name": "python"
    }
  },
  "nbformat": 4,
  "nbformat_minor": 0
}